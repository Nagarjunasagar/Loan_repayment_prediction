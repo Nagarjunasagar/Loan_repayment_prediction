{
  "nbformat": 4,
  "nbformat_minor": 0,
  "metadata": {
    "colab": {
      "name": "Loan Repayment Prediction.ipynb",
      "provenance": [],
      "toc_visible": true,
      "mount_file_id": "1_WxdhzBy2zk6LH1_lCz-Dpd1AATjgJvD",
      "authorship_tag": "ABX9TyMGUEnU2CaWfSnxavWJqHii",
      "include_colab_link": true
    },
    "kernelspec": {
      "name": "python3",
      "display_name": "Python 3"
    },
    "language_info": {
      "name": "python"
    }
  },
  "cells": [
    {
      "cell_type": "markdown",
      "metadata": {
        "id": "view-in-github",
        "colab_type": "text"
      },
      "source": [
        "<a href=\"https://colab.research.google.com/github/Nagarjunasagar/Loan_repayment_prediction/blob/main/Loan_Repayment_Prediction.ipynb\" target=\"_parent\"><img src=\"https://colab.research.google.com/assets/colab-badge.svg\" alt=\"Open In Colab\"/></a>"
      ]
    },
    {
      "cell_type": "markdown",
      "source": [
        "# **Loan Repayment Prediction**"
      ],
      "metadata": {
        "id": "GMC38fs124Tb"
      }
    },
    {
      "cell_type": "markdown",
      "source": [
        "## **Introduction**\n",
        "Objective of this work is to predict the Loan repayment ability of the applicant based on the historical loan application data.\n",
        "\n",
        "## This is an standard superviced classification problem statement\n",
        "- Supervised : Training data which includes labelles is used to train the model to predict labels.\n",
        "- Clasiification : The label is a binary variable where, \n",
        "  - 0 Represents Repayment of Loan on time\n",
        "  - 1 Represents Having difficulty in repayment of loan\n",
        "\n",
        "\n",
        "\n"
      ],
      "metadata": {
        "id": "B3RyjwSt8pf0"
      }
    },
    {
      "cell_type": "markdown",
      "source": [
        "# **Data**\n",
        "Data is from kaggle, rovided by 'Home Credit' a service dedicated to provided lines of credit (loans) to the unbanked population, as part of 'Home Credit Default Risk Competition'.\n",
        "Actual dataset on kaggle has 7 different sources of data and data in the form of .csv files. Here in this work I used only two files 'application_train.csv' and 'application_test.csv' source of these data is 'Home credit' itself(Some other data is from a Bureau, which is not included in this work). \n",
        "\n",
        "## Understanding data \n",
        "- Training Data: \n",
        " - 'application_train.csv' is the training data wich has information about each  loan application at 'Home Credit', Every loan has its own row and is defined by the feature `SK_ID_CURR`. \n",
        " - 'application_train.csv' comes with `TARGET` is a binary variable representing, 0 : Loan repaid and 1 : The loan was not paid.\n",
        "\n",
        "- Testing data :  \n",
        " - 'application_test.csv' is the testing data, has all the features/columns in training dataset except `TARGET`\n",
        "- More details about columns is provided in 'columns_description.xlsx' file\n",
        " \n"
      ],
      "metadata": {
        "id": "pwJ72XnhAiR1"
      }
    },
    {
      "cell_type": "markdown",
      "source": [
        "### Libraries\n",
        "We are using typical Datascience Stack `numpy`, `pandas`, `sklearn`, `matplotlib`, `seaborn`"
      ],
      "metadata": {
        "id": "bGTPAJVwRCFc"
      }
    },
    {
      "cell_type": "code",
      "source": [
        "# numpy and pandas for data manipulation\n",
        "import numpy as np\n",
        "import pandas as pd\n",
        "\n",
        "# matplotlib and seaborn for plotting\n",
        "import seaborn as sns\n",
        "import matplotlib.pyplot as plt\n",
        "\n",
        "# To suppress warnings\n",
        "import warnings\n",
        "warnings.frilterwarnings('ignore')\n",
        "\n",
        "# sklearn preprocessing for dealing with categorical variables\n",
        "from sklearn.preprocessing import LabelEncoder\n",
        "\n",
        "\n",
        "\n",
        "\n",
        "\n"
      ],
      "metadata": {
        "id": "clafMsgpSBwy"
      },
      "execution_count": null,
      "outputs": []
    }
  ]
}